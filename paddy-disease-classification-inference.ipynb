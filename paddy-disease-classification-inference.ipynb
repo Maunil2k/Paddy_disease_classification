{
 "cells": [
  {
   "cell_type": "code",
   "execution_count": 1,
   "id": "4999ff00",
   "metadata": {
    "_cell_guid": "b1076dfc-b9ad-4769-8c92-a6c4dae69d19",
    "_uuid": "8f2839f25d086af736a60e9eeb907d3b93b6e0e5",
    "execution": {
     "iopub.execute_input": "2022-08-14T04:01:43.850031Z",
     "iopub.status.busy": "2022-08-14T04:01:43.848906Z",
     "iopub.status.idle": "2022-08-14T04:01:49.069649Z",
     "shell.execute_reply": "2022-08-14T04:01:49.068670Z"
    },
    "papermill": {
     "duration": 5.227956,
     "end_time": "2022-08-14T04:01:49.072352",
     "exception": false,
     "start_time": "2022-08-14T04:01:43.844396",
     "status": "completed"
    },
    "tags": []
   },
   "outputs": [],
   "source": [
    "import numpy as np\n",
    "import os\n",
    "import pandas as pd\n",
    "from tqdm import tqdm \n",
    "import cv2\n",
    "from keras.models import load_model\n",
    "import warnings\n",
    "warnings.simplefilter('ignore')\n",
    "image_size = 480"
   ]
  },
  {
   "cell_type": "code",
   "execution_count": 2,
   "id": "87174cfc",
   "metadata": {
    "execution": {
     "iopub.execute_input": "2022-08-14T04:01:49.078142Z",
     "iopub.status.busy": "2022-08-14T04:01:49.077618Z",
     "iopub.status.idle": "2022-08-14T04:02:06.495741Z",
     "shell.execute_reply": "2022-08-14T04:02:06.494773Z"
    },
    "papermill": {
     "duration": 17.42437,
     "end_time": "2022-08-14T04:02:06.498945",
     "exception": false,
     "start_time": "2022-08-14T04:01:49.074575",
     "status": "completed"
    },
    "tags": []
   },
   "outputs": [
    {
     "name": "stderr",
     "output_type": "stream",
     "text": [
      "2022-08-14 04:01:49.206897: I tensorflow/stream_executor/cuda/cuda_gpu_executor.cc:937] successful NUMA node read from SysFS had negative value (-1), but there must be at least one NUMA node, so returning NUMA node zero\n",
      "2022-08-14 04:01:49.358537: I tensorflow/stream_executor/cuda/cuda_gpu_executor.cc:937] successful NUMA node read from SysFS had negative value (-1), but there must be at least one NUMA node, so returning NUMA node zero\n",
      "2022-08-14 04:01:49.359338: I tensorflow/stream_executor/cuda/cuda_gpu_executor.cc:937] successful NUMA node read from SysFS had negative value (-1), but there must be at least one NUMA node, so returning NUMA node zero\n",
      "2022-08-14 04:01:49.361305: I tensorflow/core/platform/cpu_feature_guard.cc:142] This TensorFlow binary is optimized with oneAPI Deep Neural Network Library (oneDNN) to use the following CPU instructions in performance-critical operations:  AVX2 AVX512F FMA\n",
      "To enable them in other operations, rebuild TensorFlow with the appropriate compiler flags.\n",
      "2022-08-14 04:01:49.361681: I tensorflow/stream_executor/cuda/cuda_gpu_executor.cc:937] successful NUMA node read from SysFS had negative value (-1), but there must be at least one NUMA node, so returning NUMA node zero\n",
      "2022-08-14 04:01:49.362632: I tensorflow/stream_executor/cuda/cuda_gpu_executor.cc:937] successful NUMA node read from SysFS had negative value (-1), but there must be at least one NUMA node, so returning NUMA node zero\n",
      "2022-08-14 04:01:49.363529: I tensorflow/stream_executor/cuda/cuda_gpu_executor.cc:937] successful NUMA node read from SysFS had negative value (-1), but there must be at least one NUMA node, so returning NUMA node zero\n",
      "2022-08-14 04:01:51.696942: I tensorflow/stream_executor/cuda/cuda_gpu_executor.cc:937] successful NUMA node read from SysFS had negative value (-1), but there must be at least one NUMA node, so returning NUMA node zero\n",
      "2022-08-14 04:01:51.697793: I tensorflow/stream_executor/cuda/cuda_gpu_executor.cc:937] successful NUMA node read from SysFS had negative value (-1), but there must be at least one NUMA node, so returning NUMA node zero\n",
      "2022-08-14 04:01:51.698510: I tensorflow/stream_executor/cuda/cuda_gpu_executor.cc:937] successful NUMA node read from SysFS had negative value (-1), but there must be at least one NUMA node, so returning NUMA node zero\n",
      "2022-08-14 04:01:51.699168: I tensorflow/core/common_runtime/gpu/gpu_device.cc:1510] Created device /job:localhost/replica:0/task:0/device:GPU:0 with 15403 MB memory:  -> device: 0, name: Tesla P100-PCIE-16GB, pci bus id: 0000:00:04.0, compute capability: 6.0\n"
     ]
    }
   ],
   "source": [
    "enc_to_names = ['bacterial_leaf_blight', 'bacterial_leaf_streak', 'bacterial_panicle_blight', 'blast', 'brown_spot', 'dead_heart', 'downy_mildew', 'hispa', 'normal', 'tungro']\n",
    "test_dir = '../input/paddy-disease-classification/test_images/'\n",
    "model = load_model('../input/resnet-incepv3-version12-training/best_model (1).h5')"
   ]
  },
  {
   "cell_type": "code",
   "execution_count": 3,
   "id": "b3bc5cd0",
   "metadata": {
    "execution": {
     "iopub.execute_input": "2022-08-14T04:02:06.505276Z",
     "iopub.status.busy": "2022-08-14T04:02:06.504980Z",
     "iopub.status.idle": "2022-08-14T04:02:16.385617Z",
     "shell.execute_reply": "2022-08-14T04:02:16.384306Z"
    },
    "papermill": {
     "duration": 9.887019,
     "end_time": "2022-08-14T04:02:16.388341",
     "exception": false,
     "start_time": "2022-08-14T04:02:06.501322",
     "status": "completed"
    },
    "tags": []
   },
   "outputs": [
    {
     "name": "stderr",
     "output_type": "stream",
     "text": [
      "2022-08-14 04:02:06.622179: I tensorflow/compiler/mlir/mlir_graph_optimization_pass.cc:185] None of the MLIR Optimization Passes are enabled (registered 2)\n",
      "2022-08-14 04:02:10.632698: I tensorflow/stream_executor/cuda/cuda_dnn.cc:369] Loaded cuDNN version 8005\n"
     ]
    },
    {
     "name": "stdout",
     "output_type": "stream",
     "text": [
      "[5.6924088e-12 1.4582366e-15 4.1387122e-13 1.4420770e-09 2.4173874e-10\n",
      " 6.5799821e-10 4.5041730e-09 9.9999630e-01 3.6851163e-06 4.1816399e-09]\n",
      "7\n",
      "hispa\n"
     ]
    }
   ],
   "source": [
    "img = cv2.imread('../input/paddy-disease-classification/test_images/200001.jpg')\n",
    "img = cv2.cvtColor(img, cv2.COLOR_BGR2RGB)\n",
    "img = cv2.resize(img, (image_size, image_size), interpolation = cv2.INTER_AREA)\n",
    "img = img.reshape(1, image_size, image_size, 3)\n",
    "pred = model.predict(img)\n",
    "print(pred[0])\n",
    "y = np.argmax(pred[0])\n",
    "print(y)\n",
    "print(enc_to_names[y])"
   ]
  },
  {
   "cell_type": "code",
   "execution_count": 4,
   "id": "84e63ae6",
   "metadata": {
    "execution": {
     "iopub.execute_input": "2022-08-14T04:02:16.395186Z",
     "iopub.status.busy": "2022-08-14T04:02:16.394890Z",
     "iopub.status.idle": "2022-08-14T04:02:16.421698Z",
     "shell.execute_reply": "2022-08-14T04:02:16.420852Z"
    },
    "papermill": {
     "duration": 0.032613,
     "end_time": "2022-08-14T04:02:16.423891",
     "exception": false,
     "start_time": "2022-08-14T04:02:16.391278",
     "status": "completed"
    },
    "tags": []
   },
   "outputs": [
    {
     "data": {
      "text/html": [
       "<div>\n",
       "<style scoped>\n",
       "    .dataframe tbody tr th:only-of-type {\n",
       "        vertical-align: middle;\n",
       "    }\n",
       "\n",
       "    .dataframe tbody tr th {\n",
       "        vertical-align: top;\n",
       "    }\n",
       "\n",
       "    .dataframe thead th {\n",
       "        text-align: right;\n",
       "    }\n",
       "</style>\n",
       "<table border=\"1\" class=\"dataframe\">\n",
       "  <thead>\n",
       "    <tr style=\"text-align: right;\">\n",
       "      <th></th>\n",
       "      <th>image_id</th>\n",
       "      <th>label</th>\n",
       "    </tr>\n",
       "  </thead>\n",
       "  <tbody>\n",
       "    <tr>\n",
       "      <th>0</th>\n",
       "      <td>200001.jpg</td>\n",
       "      <td>NaN</td>\n",
       "    </tr>\n",
       "    <tr>\n",
       "      <th>1</th>\n",
       "      <td>200002.jpg</td>\n",
       "      <td>NaN</td>\n",
       "    </tr>\n",
       "    <tr>\n",
       "      <th>2</th>\n",
       "      <td>200003.jpg</td>\n",
       "      <td>NaN</td>\n",
       "    </tr>\n",
       "    <tr>\n",
       "      <th>3</th>\n",
       "      <td>200004.jpg</td>\n",
       "      <td>NaN</td>\n",
       "    </tr>\n",
       "    <tr>\n",
       "      <th>4</th>\n",
       "      <td>200005.jpg</td>\n",
       "      <td>NaN</td>\n",
       "    </tr>\n",
       "  </tbody>\n",
       "</table>\n",
       "</div>"
      ],
      "text/plain": [
       "     image_id  label\n",
       "0  200001.jpg    NaN\n",
       "1  200002.jpg    NaN\n",
       "2  200003.jpg    NaN\n",
       "3  200004.jpg    NaN\n",
       "4  200005.jpg    NaN"
      ]
     },
     "execution_count": 4,
     "metadata": {},
     "output_type": "execute_result"
    }
   ],
   "source": [
    "sample_submission = pd.read_csv('../input/paddy-disease-classification/sample_submission.csv')\n",
    "sample_submission.head()"
   ]
  },
  {
   "cell_type": "code",
   "execution_count": 5,
   "id": "dfba5060",
   "metadata": {
    "execution": {
     "iopub.execute_input": "2022-08-14T04:02:16.430661Z",
     "iopub.status.busy": "2022-08-14T04:02:16.430383Z",
     "iopub.status.idle": "2022-08-14T04:07:41.959982Z",
     "shell.execute_reply": "2022-08-14T04:07:41.958892Z"
    },
    "papermill": {
     "duration": 325.535699,
     "end_time": "2022-08-14T04:07:41.962384",
     "exception": false,
     "start_time": "2022-08-14T04:02:16.426685",
     "status": "completed"
    },
    "tags": []
   },
   "outputs": [
    {
     "name": "stderr",
     "output_type": "stream",
     "text": [
      "100%|██████████| 3469/3469 [05:25<00:00, 10.66it/s]\n"
     ]
    }
   ],
   "source": [
    "submission_data = []\n",
    "temp = None\n",
    "for img_id in tqdm(os.listdir(test_dir)):\n",
    "    path = os.path.join(test_dir, img_id)\n",
    "    img = cv2.imread(path)\n",
    "    img = cv2.cvtColor(img, cv2.COLOR_BGR2RGB)\n",
    "    img = cv2.resize(img, (image_size, image_size), interpolation = cv2.INTER_AREA)\n",
    "    img = img.reshape(1, image_size, image_size, 3)\n",
    "    pred = model.predict(img)\n",
    "    pred = np.argmax(pred[0])\n",
    "    pred = enc_to_names[pred]\n",
    "    temp = {'image_id': img_id, 'label': pred}\n",
    "    submission_data.append(temp)"
   ]
  },
  {
   "cell_type": "code",
   "execution_count": 6,
   "id": "b9b2ddfd",
   "metadata": {
    "execution": {
     "iopub.execute_input": "2022-08-14T04:07:42.152262Z",
     "iopub.status.busy": "2022-08-14T04:07:42.151865Z",
     "iopub.status.idle": "2022-08-14T04:07:42.168049Z",
     "shell.execute_reply": "2022-08-14T04:07:42.167114Z"
    },
    "papermill": {
     "duration": 0.113982,
     "end_time": "2022-08-14T04:07:42.170282",
     "exception": false,
     "start_time": "2022-08-14T04:07:42.056300",
     "status": "completed"
    },
    "tags": []
   },
   "outputs": [],
   "source": [
    "submission = pd.DataFrame(submission_data)\n",
    "submission.to_csv('submission.csv', index=False)"
   ]
  }
 ],
 "metadata": {
  "kernelspec": {
   "display_name": "Python 3",
   "language": "python",
   "name": "python3"
  },
  "language_info": {
   "codemirror_mode": {
    "name": "ipython",
    "version": 3
   },
   "file_extension": ".py",
   "mimetype": "text/x-python",
   "name": "python",
   "nbconvert_exporter": "python",
   "pygments_lexer": "ipython3",
   "version": "3.7.12"
  },
  "papermill": {
   "default_parameters": {},
   "duration": 369.389593,
   "end_time": "2022-08-14T04:07:45.668092",
   "environment_variables": {},
   "exception": null,
   "input_path": "__notebook__.ipynb",
   "output_path": "__notebook__.ipynb",
   "parameters": {},
   "start_time": "2022-08-14T04:01:36.278499",
   "version": "2.3.4"
  }
 },
 "nbformat": 4,
 "nbformat_minor": 5
}
